{
 "cells": [
  {
   "cell_type": "code",
   "execution_count": 1,
   "metadata": {},
   "outputs": [],
   "source": [
    "# Import library\n",
    "import pandas as pd\n",
    "from google_play_scraper import reviews, Sort\n",
    "import csv"
   ]
  },
  {
   "cell_type": "code",
   "execution_count": 2,
   "metadata": {},
   "outputs": [
    {
     "name": "stdout",
     "output_type": "stream",
     "text": [
      "25000\n"
     ]
    }
   ],
   "source": [
    "# Scraping data dari clash of clans\n",
    "scrapreview, _ = reviews(\n",
    "    'com.supercell.clashofclans',          # ID aplikasi\n",
    "    lang='en',                # Bahasa ulasan\n",
    "    country='id',             # Negara\n",
    "    sort=Sort.MOST_RELEVANT,  # Urutan ulasan\n",
    "    count=25000                  # Jumlah ulasan yang ingin diambil\n",
    ")\n",
    "\n",
    "print(len(scrapreview))"
   ]
  },
  {
   "cell_type": "code",
   "execution_count": 3,
   "metadata": {},
   "outputs": [],
   "source": [
    "app_reviews_df = pd.DataFrame(scrapreview)\n",
    "app_reviews_df.shape\n",
    "app_reviews_df.head()\n",
    "app_reviews_df.to_csv('ulasan_coc_english.csv', index=False)\n",
    " \n",
    "# Membuat DataFrame dari hasil scrapreview\n",
    "app_reviews_df = pd.DataFrame(scrapreview)\n",
    " \n",
    "# Menghitung jumlah baris dan kolom dalam DataFrame\n",
    "jumlah_ulasan, jumlah_kolom = app_reviews_df.shape"
   ]
  },
  {
   "cell_type": "code",
   "execution_count": 4,
   "metadata": {},
   "outputs": [
    {
     "data": {
      "text/plain": [
       "(25000, 11)"
      ]
     },
     "execution_count": 4,
     "metadata": {},
     "output_type": "execute_result"
    }
   ],
   "source": [
    "app_reviews_df.shape"
   ]
  },
  {
   "cell_type": "code",
   "execution_count": 5,
   "metadata": {},
   "outputs": [
    {
     "data": {
      "text/html": [
       "<div>\n",
       "<style scoped>\n",
       "    .dataframe tbody tr th:only-of-type {\n",
       "        vertical-align: middle;\n",
       "    }\n",
       "\n",
       "    .dataframe tbody tr th {\n",
       "        vertical-align: top;\n",
       "    }\n",
       "\n",
       "    .dataframe thead th {\n",
       "        text-align: right;\n",
       "    }\n",
       "</style>\n",
       "<table border=\"1\" class=\"dataframe\">\n",
       "  <thead>\n",
       "    <tr style=\"text-align: right;\">\n",
       "      <th></th>\n",
       "      <th>reviewId</th>\n",
       "      <th>userName</th>\n",
       "      <th>userImage</th>\n",
       "      <th>content</th>\n",
       "      <th>score</th>\n",
       "      <th>thumbsUpCount</th>\n",
       "      <th>reviewCreatedVersion</th>\n",
       "      <th>at</th>\n",
       "      <th>replyContent</th>\n",
       "      <th>repliedAt</th>\n",
       "      <th>appVersion</th>\n",
       "    </tr>\n",
       "  </thead>\n",
       "  <tbody>\n",
       "    <tr>\n",
       "      <th>0</th>\n",
       "      <td>59725dd0-533b-47a5-874d-110733215800</td>\n",
       "      <td>A Google user</td>\n",
       "      <td>https://play-lh.googleusercontent.com/EGemoI2N...</td>\n",
       "      <td>This last year has brought some amazing change...</td>\n",
       "      <td>5</td>\n",
       "      <td>41</td>\n",
       "      <td>16.654.16</td>\n",
       "      <td>2025-01-09 09:30:16</td>\n",
       "      <td>None</td>\n",
       "      <td>None</td>\n",
       "      <td>16.654.16</td>\n",
       "    </tr>\n",
       "    <tr>\n",
       "      <th>1</th>\n",
       "      <td>c6c50aae-4e27-4ce3-a8b6-672f812a359a</td>\n",
       "      <td>A Google user</td>\n",
       "      <td>https://play-lh.googleusercontent.com/EGemoI2N...</td>\n",
       "      <td>I've been playing this game for well over 10 y...</td>\n",
       "      <td>3</td>\n",
       "      <td>440</td>\n",
       "      <td>16.654.16</td>\n",
       "      <td>2024-12-15 04:12:36</td>\n",
       "      <td>None</td>\n",
       "      <td>None</td>\n",
       "      <td>16.654.16</td>\n",
       "    </tr>\n",
       "    <tr>\n",
       "      <th>2</th>\n",
       "      <td>0f198656-b900-4b4e-a3ec-383eb3abfa9e</td>\n",
       "      <td>A Google user</td>\n",
       "      <td>https://play-lh.googleusercontent.com/EGemoI2N...</td>\n",
       "      <td>For november 25th version. There are several b...</td>\n",
       "      <td>1</td>\n",
       "      <td>280</td>\n",
       "      <td>16.654.6</td>\n",
       "      <td>2024-11-25 22:08:25</td>\n",
       "      <td>None</td>\n",
       "      <td>None</td>\n",
       "      <td>16.654.6</td>\n",
       "    </tr>\n",
       "    <tr>\n",
       "      <th>3</th>\n",
       "      <td>9425ab1e-abe7-4af6-8476-bdbd2c9b317e</td>\n",
       "      <td>A Google user</td>\n",
       "      <td>https://play-lh.googleusercontent.com/EGemoI2N...</td>\n",
       "      <td>1/2/2025.... Still getting disconnected every ...</td>\n",
       "      <td>1</td>\n",
       "      <td>115</td>\n",
       "      <td>16.654.16</td>\n",
       "      <td>2025-01-03 13:19:45</td>\n",
       "      <td>None</td>\n",
       "      <td>None</td>\n",
       "      <td>16.654.16</td>\n",
       "    </tr>\n",
       "  </tbody>\n",
       "</table>\n",
       "</div>"
      ],
      "text/plain": [
       "                               reviewId       userName  \\\n",
       "0  59725dd0-533b-47a5-874d-110733215800  A Google user   \n",
       "1  c6c50aae-4e27-4ce3-a8b6-672f812a359a  A Google user   \n",
       "2  0f198656-b900-4b4e-a3ec-383eb3abfa9e  A Google user   \n",
       "3  9425ab1e-abe7-4af6-8476-bdbd2c9b317e  A Google user   \n",
       "\n",
       "                                           userImage  \\\n",
       "0  https://play-lh.googleusercontent.com/EGemoI2N...   \n",
       "1  https://play-lh.googleusercontent.com/EGemoI2N...   \n",
       "2  https://play-lh.googleusercontent.com/EGemoI2N...   \n",
       "3  https://play-lh.googleusercontent.com/EGemoI2N...   \n",
       "\n",
       "                                             content  score  thumbsUpCount  \\\n",
       "0  This last year has brought some amazing change...      5             41   \n",
       "1  I've been playing this game for well over 10 y...      3            440   \n",
       "2  For november 25th version. There are several b...      1            280   \n",
       "3  1/2/2025.... Still getting disconnected every ...      1            115   \n",
       "\n",
       "  reviewCreatedVersion                  at replyContent repliedAt appVersion  \n",
       "0            16.654.16 2025-01-09 09:30:16         None      None  16.654.16  \n",
       "1            16.654.16 2024-12-15 04:12:36         None      None  16.654.16  \n",
       "2             16.654.6 2024-11-25 22:08:25         None      None   16.654.6  \n",
       "3            16.654.16 2025-01-03 13:19:45         None      None  16.654.16  "
      ]
     },
     "execution_count": 5,
     "metadata": {},
     "output_type": "execute_result"
    }
   ],
   "source": [
    "app_reviews_df.head(4)"
   ]
  }
 ],
 "metadata": {
  "kernelspec": {
   "display_name": "base",
   "language": "python",
   "name": "python3"
  },
  "language_info": {
   "codemirror_mode": {
    "name": "ipython",
    "version": 3
   },
   "file_extension": ".py",
   "mimetype": "text/x-python",
   "name": "python",
   "nbconvert_exporter": "python",
   "pygments_lexer": "ipython3",
   "version": "3.10.13"
  }
 },
 "nbformat": 4,
 "nbformat_minor": 2
}
